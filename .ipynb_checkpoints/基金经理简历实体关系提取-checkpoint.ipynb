{
 "cells": [
  {
   "cell_type": "code",
   "execution_count": 1,
   "id": "08e948a7",
   "metadata": {},
   "outputs": [
    {
     "ename": "SyntaxError",
     "evalue": "invalid syntax (<ipython-input-1-ee0303ed7e84>, line 1)",
     "output_type": "error",
     "traceback": [
      "\u001b[1;36m  File \u001b[1;32m\"<ipython-input-1-ee0303ed7e84>\"\u001b[1;36m, line \u001b[1;32m1\u001b[0m\n\u001b[1;33m    python finetune.py \\\u001b[0m\n\u001b[1;37m           ^\u001b[0m\n\u001b[1;31mSyntaxError\u001b[0m\u001b[1;31m:\u001b[0m invalid syntax\n"
     ]
    }
   ],
   "source": [
    "python finetune.py \\\n",
    "    --train_path ./data/train.txt \\\n",
    "    --dev_path ./data/dev.txt \\\n",
    "    --save_dir ./checkpoint \\\n",
    "    --learning_rate 1e-5 \\\n",
    "    --batch_size 16 \\\n",
    "    --max_seq_len 512 \\\n",
    "    --num_epochs 100 \\\n",
    "    --model uie-base \\\n",
    "    --seed 1000 \\\n",
    "    --logging_steps 10 \\\n",
    "    --valid_steps 100 \\\n",
    "    --device gpu"
   ]
  },
  {
   "cell_type": "code",
   "execution_count": null,
   "id": "436f2acd",
   "metadata": {},
   "outputs": [],
   "source": []
  }
 ],
 "metadata": {
  "kernelspec": {
   "display_name": "Python 3",
   "language": "python",
   "name": "python3"
  },
  "language_info": {
   "codemirror_mode": {
    "name": "ipython",
    "version": 3
   },
   "file_extension": ".py",
   "mimetype": "text/x-python",
   "name": "python",
   "nbconvert_exporter": "python",
   "pygments_lexer": "ipython3",
   "version": "3.8.8"
  }
 },
 "nbformat": 4,
 "nbformat_minor": 5
}
